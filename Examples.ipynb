{
 "cells": [
  {
   "cell_type": "markdown",
   "metadata": {},
   "source": [
    "# This notebook contains examples using pandas_cub"
   ]
  },
  {
   "cell_type": "code",
   "execution_count": 1,
   "metadata": {},
   "outputs": [
    {
     "data": {
      "text/plain": [
       "'E:\\\\Anaconda3\\\\envs\\\\pandas_cub\\\\python.exe'"
      ]
     },
     "execution_count": 1,
     "metadata": {},
     "output_type": "execute_result"
    }
   ],
   "source": [
    "import sys\n",
    "sys.executable"
   ]
  },
  {
   "cell_type": "code",
   "execution_count": 2,
   "metadata": {},
   "outputs": [],
   "source": [
    "%load_ext autoreload\n",
    "%autoreload 2"
   ]
  },
  {
   "cell_type": "code",
   "execution_count": 3,
   "metadata": {},
   "outputs": [],
   "source": [
    "import numpy as np\n",
    "import pandas as pd\n",
    "import pandas_cub as pdc"
   ]
  },
  {
   "cell_type": "markdown",
   "metadata": {},
   "source": [
    "### 1. Creating DataFrame  \n",
    "\n",
    "DataFrame constructor take a single parameter - a `dict`: \n",
    "1. Keys must be string and will eventually form column names.\n",
    "2. Values must be one dimensional numpy arrays.\n",
    "3. All numpy arrays must have same length.\n",
    "4. Unicode arrays will be converted to numpy object type. "
   ]
  },
  {
   "cell_type": "code",
   "execution_count": 4,
   "metadata": {},
   "outputs": [],
   "source": [
    "name = np.array(['Deepak', 'Manoj', None])\n",
    "state = np.array(['Maharashtra', 'Karnatka', None])\n",
    "height = np.array([5.3, 5.6, np.NAN])\n",
    "employed = np.array([True, False, np.NAN])\n",
    "\n",
    "df = pdc.DataFrame({'name':name, 'state':state, 'height':height, 'employed':employed})\n",
    "df_pandas = pd.DataFrame({'name':name, 'state':state, 'height':height, 'employed':employed})"
   ]
  },
  {
   "cell_type": "code",
   "execution_count": 5,
   "metadata": {},
   "outputs": [
    {
     "data": {
      "text/html": [
       "<table><thead><tr><th></th><th>Column Name</th><th>Data Type </th></tr></thead><tbody><tr><td><strong>0</strong></td><td>name      </td><td>string    </td></tr><tr><td><strong>1</strong></td><td>state     </td><td>string    </td></tr><tr><td><strong>2</strong></td><td>height    </td><td>float     </td></tr><tr><td><strong>3</strong></td><td>employed  </td><td>float     </td></tr></tbody></table>"
      ],
      "text/plain": [
       "<pandas_cub.DataFrame at 0x1ed40e049b0>"
      ]
     },
     "execution_count": 5,
     "metadata": {},
     "output_type": "execute_result"
    }
   ],
   "source": [
    "df.dtypes "
   ]
  },
  {
   "cell_type": "code",
   "execution_count": 6,
   "metadata": {},
   "outputs": [
    {
     "data": {
      "text/html": [
       "<div>\n",
       "<style scoped>\n",
       "    .dataframe tbody tr th:only-of-type {\n",
       "        vertical-align: middle;\n",
       "    }\n",
       "\n",
       "    .dataframe tbody tr th {\n",
       "        vertical-align: top;\n",
       "    }\n",
       "\n",
       "    .dataframe thead th {\n",
       "        text-align: right;\n",
       "    }\n",
       "</style>\n",
       "<table border=\"1\" class=\"dataframe\">\n",
       "  <thead>\n",
       "    <tr style=\"text-align: right;\">\n",
       "      <th></th>\n",
       "      <th>name</th>\n",
       "      <th>state</th>\n",
       "      <th>height</th>\n",
       "      <th>employed</th>\n",
       "    </tr>\n",
       "  </thead>\n",
       "  <tbody>\n",
       "    <tr>\n",
       "      <th>0</th>\n",
       "      <td>Deepak</td>\n",
       "      <td>Maharashtra</td>\n",
       "      <td>5.3</td>\n",
       "      <td>1.0</td>\n",
       "    </tr>\n",
       "    <tr>\n",
       "      <th>1</th>\n",
       "      <td>Manoj</td>\n",
       "      <td>Karnatka</td>\n",
       "      <td>5.6</td>\n",
       "      <td>0.0</td>\n",
       "    </tr>\n",
       "    <tr>\n",
       "      <th>2</th>\n",
       "      <td>None</td>\n",
       "      <td>None</td>\n",
       "      <td>NaN</td>\n",
       "      <td>NaN</td>\n",
       "    </tr>\n",
       "  </tbody>\n",
       "</table>\n",
       "</div>"
      ],
      "text/plain": [
       "     name        state  height  employed\n",
       "0  Deepak  Maharashtra     5.3       1.0\n",
       "1   Manoj     Karnatka     5.6       0.0\n",
       "2    None         None     NaN       NaN"
      ]
     },
     "execution_count": 6,
     "metadata": {},
     "output_type": "execute_result"
    }
   ],
   "source": [
    "df_pandas"
   ]
  },
  {
   "cell_type": "code",
   "execution_count": 7,
   "metadata": {},
   "outputs": [
    {
     "data": {
      "text/plain": [
       "name         object\n",
       "state        object\n",
       "height      float64\n",
       "employed    float64\n",
       "dtype: object"
      ]
     },
     "execution_count": 7,
     "metadata": {},
     "output_type": "execute_result"
    }
   ],
   "source": [
    "df_pandas.dtypes"
   ]
  },
  {
   "cell_type": "code",
   "execution_count": 8,
   "metadata": {},
   "outputs": [
    {
     "data": {
      "text/html": [
       "<table><thead><tr><th></th><th>name      </th><th>state     </th><th>height    </th><th>employed  </th></tr></thead><tbody><tr><td><strong>0</strong></td><td>False</td><td>False</td><td>False</td><td>False</td></tr><tr><td><strong>1</strong></td><td>False</td><td>False</td><td>False</td><td>False</td></tr><tr><td><strong>2</strong></td><td>True</td><td>True</td><td>True</td><td>True</td></tr></tbody></table>"
      ],
      "text/plain": [
       "<pandas_cub.DataFrame at 0x1ed40e04eb8>"
      ]
     },
     "execution_count": 8,
     "metadata": {},
     "output_type": "execute_result"
    }
   ],
   "source": [
    "df.isna()"
   ]
  },
  {
   "cell_type": "markdown",
   "metadata": {},
   "source": [
    "### 2. Reading data from a file - read_csv()\n",
    "\n",
    "`read_csv(path_to_csv_file)`: This method can only read comma separated files, unlike pandas which allows us to specify a separator using `sep` keyword argument."
   ]
  },
  {
   "cell_type": "code",
   "execution_count": 9,
   "metadata": {},
   "outputs": [],
   "source": [
    "emps = pdc.read_csv(\"data/employee.csv\")"
   ]
  },
  {
   "cell_type": "code",
   "execution_count": 10,
   "metadata": {},
   "outputs": [
    {
     "data": {
      "text/html": [
       "<table><thead><tr><th></th><th>dept      </th><th>race      </th><th>gender    </th><th>salary    </th></tr></thead><tbody><tr><td><strong>0</strong></td><td>Houston Police Department-HPD</td><td>White     </td><td>Male      </td><td>     45279</td></tr><tr><td><strong>1</strong></td><td>Houston Fire Department (HFD)</td><td>White     </td><td>Male      </td><td>     63166</td></tr><tr><td><strong>2</strong></td><td>Houston Police Department-HPD</td><td>Black     </td><td>Male      </td><td>     66614</td></tr><tr><td><strong>3</strong></td><td>Public Works & Engineering-PWE</td><td>Asian     </td><td>Male      </td><td>     71680</td></tr><tr><td><strong>4</strong></td><td>Houston Airport System (HAS)</td><td>White     </td><td>Male      </td><td>     42390</td></tr><tr><td><strong>5</strong></td><td>Public Works & Engineering-PWE</td><td>White     </td><td>Male      </td><td>    107962</td></tr><tr><td><strong>6</strong></td><td>Houston Fire Department (HFD)</td><td>Hispanic  </td><td>Male      </td><td>     52644</td></tr><tr><td><strong>7</strong></td><td>Health & Human Services</td><td>Black     </td><td>Male      </td><td>    180416</td></tr><tr><td><strong>8</strong></td><td>Public Works & Engineering-PWE</td><td>Black     </td><td>Male      </td><td>     30347</td></tr><tr><td><strong>9</strong></td><td>Health & Human Services</td><td>Black     </td><td>Male      </td><td>     55269</td></tr><tr><strong><td>...</td></strong><td>...</td><td>...</td><td>...</td><td>...</td></tr><tr><td><strong>1525</strong></td><td>Parks & Recreation</td><td>Black     </td><td>Female    </td><td>     30347</td></tr><tr><td><strong>1526</strong></td><td>Houston Police Department-HPD</td><td>Hispanic  </td><td>Female    </td><td>     44429</td></tr><tr><td><strong>1527</strong></td><td>Houston Airport System (HAS)</td><td>Hispanic  </td><td>Male      </td><td>     29286</td></tr><tr><td><strong>1528</strong></td><td>Houston Police Department-HPD</td><td>White     </td><td>Male      </td><td>     81239</td></tr><tr><td><strong>1529</strong></td><td>Houston Police Department-HPD</td><td>Black     </td><td>Male      </td><td>    104455</td></tr><tr><td><strong>1530</strong></td><td>Houston Police Department-HPD</td><td>White     </td><td>Male      </td><td>     43443</td></tr><tr><td><strong>1531</strong></td><td>Houston Fire Department (HFD)</td><td>Black     </td><td>Male      </td><td>     66523</td></tr><tr><td><strong>1532</strong></td><td>Houston Police Department-HPD</td><td>White     </td><td>Male      </td><td>     43443</td></tr><tr><td><strong>1533</strong></td><td>Houston Police Department-HPD</td><td>Asian     </td><td>Male      </td><td>     55461</td></tr><tr><td><strong>1534</strong></td><td>Houston Fire Department (HFD)</td><td>Hispanic  </td><td>Male      </td><td>     51194</td></tr></tbody></table>"
      ],
      "text/plain": [
       "<pandas_cub.DataFrame at 0x1ed41126dd8>"
      ]
     },
     "execution_count": 10,
     "metadata": {},
     "output_type": "execute_result"
    }
   ],
   "source": [
    "emps"
   ]
  },
  {
   "cell_type": "markdown",
   "metadata": {},
   "source": [
    "### 3. Using len() function to find number of rows in DataFrame"
   ]
  },
  {
   "cell_type": "code",
   "execution_count": 11,
   "metadata": {},
   "outputs": [
    {
     "data": {
      "text/plain": [
       "1535"
      ]
     },
     "execution_count": 11,
     "metadata": {},
     "output_type": "execute_result"
    }
   ],
   "source": [
    "len(emps)"
   ]
  },
  {
   "cell_type": "markdown",
   "metadata": {},
   "source": [
    "### 4. Get column names as list"
   ]
  },
  {
   "cell_type": "code",
   "execution_count": 12,
   "metadata": {},
   "outputs": [
    {
     "data": {
      "text/plain": [
       "['dept', 'race', 'gender', 'salary']"
      ]
     },
     "execution_count": 12,
     "metadata": {},
     "output_type": "execute_result"
    }
   ],
   "source": [
    "emps.columns"
   ]
  },
  {
   "cell_type": "markdown",
   "metadata": {},
   "source": [
    "###  5. Setting column names\n",
    "1. Column names should be given in a list\n",
    "2. Number of column names in list should be equal to that in current DataFrame\n",
    "3. All column names should be string.\n",
    "4. Column names should not be duplicated."
   ]
  },
  {
   "cell_type": "code",
   "execution_count": 13,
   "metadata": {},
   "outputs": [],
   "source": [
    "emps.columns = ['department', 'race', 'sex', 'salary']"
   ]
  },
  {
   "cell_type": "code",
   "execution_count": 14,
   "metadata": {},
   "outputs": [
    {
     "data": {
      "text/html": [
       "<table><thead><tr><th></th><th>department</th><th>race      </th><th>sex       </th><th>salary    </th></tr></thead><tbody><tr><td><strong>0</strong></td><td>Houston Police Department-HPD</td><td>White     </td><td>Male      </td><td>     45279</td></tr><tr><td><strong>1</strong></td><td>Houston Fire Department (HFD)</td><td>White     </td><td>Male      </td><td>     63166</td></tr><tr><td><strong>2</strong></td><td>Houston Police Department-HPD</td><td>Black     </td><td>Male      </td><td>     66614</td></tr><tr><td><strong>3</strong></td><td>Public Works & Engineering-PWE</td><td>Asian     </td><td>Male      </td><td>     71680</td></tr><tr><td><strong>4</strong></td><td>Houston Airport System (HAS)</td><td>White     </td><td>Male      </td><td>     42390</td></tr></tbody></table>"
      ],
      "text/plain": [
       "<pandas_cub.DataFrame at 0x1ed410ca438>"
      ]
     },
     "execution_count": 14,
     "metadata": {},
     "output_type": "execute_result"
    }
   ],
   "source": [
    "emps.head()"
   ]
  },
  {
   "cell_type": "markdown",
   "metadata": {},
   "source": [
    "### 6. shape property\n",
    "Returns a two value tuple consisting of no of rows and no of columns in the DataFrame."
   ]
  },
  {
   "cell_type": "code",
   "execution_count": 15,
   "metadata": {},
   "outputs": [
    {
     "data": {
      "text/plain": [
       "(1535, 4)"
      ]
     },
     "execution_count": 15,
     "metadata": {},
     "output_type": "execute_result"
    }
   ],
   "source": [
    "emps.shape         # will return a tuple (no_of_rows, no_of_columns)"
   ]
  },
  {
   "cell_type": "markdown",
   "metadata": {},
   "source": [
    "### 7. values property\n",
    "Returns a single array of all the columns of data."
   ]
  },
  {
   "cell_type": "code",
   "execution_count": 16,
   "metadata": {},
   "outputs": [
    {
     "name": "stderr",
     "output_type": "stream",
     "text": [
      "E:\\projects\\pandas_cub\\pandas_cub\\pandas_cub\\__init__.py:216: FutureWarning: arrays to stack must be passed as a \"sequence\" type such as list or tuple. Support for non-sequence iterables such as generators is deprecated as of NumPy 1.16 and will raise an error in the future.\n",
      "  return np.column_stack(self._data.values())\n"
     ]
    },
    {
     "data": {
      "text/plain": [
       "array([['Houston Police Department-HPD', 'White', 'Male', 45279],\n",
       "       ['Houston Fire Department (HFD)', 'White', 'Male', 63166],\n",
       "       ['Houston Police Department-HPD', 'Black', 'Male', 66614],\n",
       "       ...,\n",
       "       ['Houston Police Department-HPD', 'White', 'Male', 43443],\n",
       "       ['Houston Police Department-HPD', 'Asian', 'Male', 55461],\n",
       "       ['Houston Fire Department (HFD)', 'Hispanic', 'Male', 51194]],\n",
       "      dtype=object)"
      ]
     },
     "execution_count": 16,
     "metadata": {},
     "output_type": "execute_result"
    }
   ],
   "source": [
    "emps.values"
   ]
  },
  {
   "cell_type": "markdown",
   "metadata": {},
   "source": [
    "###  8. dtypes property\n",
    "\n",
    "Returns a two column DataFrame with the column names in the first column and their data type as a string in the other."
   ]
  },
  {
   "cell_type": "code",
   "execution_count": 17,
   "metadata": {},
   "outputs": [
    {
     "data": {
      "text/html": [
       "<table><thead><tr><th></th><th>Column Name</th><th>Data Type </th></tr></thead><tbody><tr><td><strong>0</strong></td><td>department</td><td>string    </td></tr><tr><td><strong>1</strong></td><td>race      </td><td>string    </td></tr><tr><td><strong>2</strong></td><td>sex       </td><td>string    </td></tr><tr><td><strong>3</strong></td><td>salary    </td><td>int       </td></tr></tbody></table>"
      ],
      "text/plain": [
       "<pandas_cub.DataFrame at 0x1ed410ce588>"
      ]
     },
     "execution_count": 17,
     "metadata": {},
     "output_type": "execute_result"
    }
   ],
   "source": [
    "emps.dtypes"
   ]
  },
  {
   "cell_type": "markdown",
   "metadata": {},
   "source": [
    "### 9. Select a single column with the brackets\n",
    "\n",
    "The value with in the bracket must be a string.\n",
    "\n",
    "Returns a one column DataFrame of that column."
   ]
  },
  {
   "cell_type": "code",
   "execution_count": 18,
   "metadata": {},
   "outputs": [
    {
     "data": {
      "text/html": [
       "<table><thead><tr><th></th><th>salary    </th></tr></thead><tbody><tr><td><strong>0</strong></td><td>     45279</td></tr><tr><td><strong>1</strong></td><td>     63166</td></tr><tr><td><strong>2</strong></td><td>     66614</td></tr><tr><td><strong>3</strong></td><td>     71680</td></tr><tr><td><strong>4</strong></td><td>     42390</td></tr><tr><td><strong>5</strong></td><td>    107962</td></tr><tr><td><strong>6</strong></td><td>     52644</td></tr><tr><td><strong>7</strong></td><td>    180416</td></tr><tr><td><strong>8</strong></td><td>     30347</td></tr><tr><td><strong>9</strong></td><td>     55269</td></tr><tr><strong><td>...</td></strong><td>...</td></tr><tr><td><strong>1525</strong></td><td>     30347</td></tr><tr><td><strong>1526</strong></td><td>     44429</td></tr><tr><td><strong>1527</strong></td><td>     29286</td></tr><tr><td><strong>1528</strong></td><td>     81239</td></tr><tr><td><strong>1529</strong></td><td>    104455</td></tr><tr><td><strong>1530</strong></td><td>     43443</td></tr><tr><td><strong>1531</strong></td><td>     66523</td></tr><tr><td><strong>1532</strong></td><td>     43443</td></tr><tr><td><strong>1533</strong></td><td>     55461</td></tr><tr><td><strong>1534</strong></td><td>     51194</td></tr></tbody></table>"
      ],
      "text/plain": [
       "<pandas_cub.DataFrame at 0x1ed410d0630>"
      ]
     },
     "execution_count": 18,
     "metadata": {},
     "output_type": "execute_result"
    }
   ],
   "source": [
    "emps['salary']"
   ]
  },
  {
   "cell_type": "markdown",
   "metadata": {},
   "source": [
    "### 10. Select multiple columns\n",
    "\n",
    "The value within brackets must be a list of valid column names as string.\n",
    "\n",
    "Returns a DataFrame of those columns."
   ]
  },
  {
   "cell_type": "code",
   "execution_count": 19,
   "metadata": {},
   "outputs": [
    {
     "data": {
      "text/html": [
       "<table><thead><tr><th></th><th>department</th><th>race      </th></tr></thead><tbody><tr><td><strong>0</strong></td><td>Houston Police Department-HPD</td><td>White     </td></tr><tr><td><strong>1</strong></td><td>Houston Fire Department (HFD)</td><td>White     </td></tr><tr><td><strong>2</strong></td><td>Houston Police Department-HPD</td><td>Black     </td></tr><tr><td><strong>3</strong></td><td>Public Works & Engineering-PWE</td><td>Asian     </td></tr><tr><td><strong>4</strong></td><td>Houston Airport System (HAS)</td><td>White     </td></tr><tr><td><strong>5</strong></td><td>Public Works & Engineering-PWE</td><td>White     </td></tr><tr><td><strong>6</strong></td><td>Houston Fire Department (HFD)</td><td>Hispanic  </td></tr><tr><td><strong>7</strong></td><td>Health & Human Services</td><td>Black     </td></tr><tr><td><strong>8</strong></td><td>Public Works & Engineering-PWE</td><td>Black     </td></tr><tr><td><strong>9</strong></td><td>Health & Human Services</td><td>Black     </td></tr><tr><strong><td>...</td></strong><td>...</td><td>...</td></tr><tr><td><strong>1525</strong></td><td>Parks & Recreation</td><td>Black     </td></tr><tr><td><strong>1526</strong></td><td>Houston Police Department-HPD</td><td>Hispanic  </td></tr><tr><td><strong>1527</strong></td><td>Houston Airport System (HAS)</td><td>Hispanic  </td></tr><tr><td><strong>1528</strong></td><td>Houston Police Department-HPD</td><td>White     </td></tr><tr><td><strong>1529</strong></td><td>Houston Police Department-HPD</td><td>Black     </td></tr><tr><td><strong>1530</strong></td><td>Houston Police Department-HPD</td><td>White     </td></tr><tr><td><strong>1531</strong></td><td>Houston Fire Department (HFD)</td><td>Black     </td></tr><tr><td><strong>1532</strong></td><td>Houston Police Department-HPD</td><td>White     </td></tr><tr><td><strong>1533</strong></td><td>Houston Police Department-HPD</td><td>Asian     </td></tr><tr><td><strong>1534</strong></td><td>Houston Fire Department (HFD)</td><td>Hispanic  </td></tr></tbody></table>"
      ],
      "text/plain": [
       "<pandas_cub.DataFrame at 0x1ed410d1080>"
      ]
     },
     "execution_count": 19,
     "metadata": {},
     "output_type": "execute_result"
    }
   ],
   "source": [
    "emps[['department', 'race']]"
   ]
  },
  {
   "cell_type": "markdown",
   "metadata": {},
   "source": [
    "### 11. Boolean selection with a DataFrame\n",
    "\n",
    "Parameter in brackets must be a single column DataFrame consisting of boolean values."
   ]
  },
  {
   "cell_type": "code",
   "execution_count": 20,
   "metadata": {},
   "outputs": [
    {
     "ename": "TypeError",
     "evalue": "DataFrame must be a boolean",
     "output_type": "error",
     "traceback": [
      "\u001b[1;31m---------------------------------------------------------------------------\u001b[0m",
      "\u001b[1;31mTypeError\u001b[0m                                 Traceback (most recent call last)",
      "\u001b[1;32m<ipython-input-20-2956e20e904d>\u001b[0m in \u001b[0;36m<module>\u001b[1;34m\u001b[0m\n\u001b[1;32m----> 1\u001b[1;33m \u001b[0memps\u001b[0m\u001b[1;33m[\u001b[0m\u001b[0memps\u001b[0m\u001b[1;33m[\u001b[0m\u001b[1;34m'race'\u001b[0m\u001b[1;33m]\u001b[0m \u001b[1;33m==\u001b[0m \u001b[1;34m'Asian'\u001b[0m\u001b[1;33m]\u001b[0m\u001b[1;33m\u001b[0m\u001b[1;33m\u001b[0m\u001b[0m\n\u001b[0m",
      "\u001b[1;32mE:\\projects\\pandas_cub\\pandas_cub\\pandas_cub\\__init__.py\u001b[0m in \u001b[0;36m__getitem__\u001b[1;34m(self, item)\u001b[0m\n\u001b[0;32m    263\u001b[0m             \u001b[0mbool_arr\u001b[0m \u001b[1;33m=\u001b[0m \u001b[0mnext\u001b[0m\u001b[1;33m(\u001b[0m\u001b[0miter\u001b[0m\u001b[1;33m(\u001b[0m\u001b[0mitem\u001b[0m\u001b[1;33m.\u001b[0m\u001b[0m_data\u001b[0m\u001b[1;33m.\u001b[0m\u001b[0mvalues\u001b[0m\u001b[1;33m(\u001b[0m\u001b[1;33m)\u001b[0m\u001b[1;33m)\u001b[0m\u001b[1;33m)\u001b[0m\u001b[1;33m;\u001b[0m\u001b[1;33m\u001b[0m\u001b[1;33m\u001b[0m\u001b[0m\n\u001b[0;32m    264\u001b[0m             \u001b[1;32mif\u001b[0m \u001b[0mbool_arr\u001b[0m\u001b[1;33m.\u001b[0m\u001b[0mdtype\u001b[0m\u001b[1;33m.\u001b[0m\u001b[0mkind\u001b[0m \u001b[1;33m!=\u001b[0m \u001b[1;34m'b'\u001b[0m\u001b[1;33m:\u001b[0m\u001b[1;33m\u001b[0m\u001b[1;33m\u001b[0m\u001b[0m\n\u001b[1;32m--> 265\u001b[1;33m                 \u001b[1;32mraise\u001b[0m \u001b[0mTypeError\u001b[0m\u001b[1;33m(\u001b[0m\u001b[1;34m'DataFrame must be a boolean'\u001b[0m\u001b[1;33m)\u001b[0m\u001b[1;33m\u001b[0m\u001b[1;33m\u001b[0m\u001b[0m\n\u001b[0m\u001b[0;32m    266\u001b[0m \u001b[1;33m\u001b[0m\u001b[0m\n\u001b[0;32m    267\u001b[0m             \u001b[0mnew_data\u001b[0m \u001b[1;33m=\u001b[0m \u001b[1;33m{\u001b[0m\u001b[1;33m}\u001b[0m\u001b[1;33m\u001b[0m\u001b[1;33m\u001b[0m\u001b[0m\n",
      "\u001b[1;31mTypeError\u001b[0m: DataFrame must be a boolean"
     ]
    }
   ],
   "source": [
    "emps[emps['race'] == 'Asian']"
   ]
  },
  {
   "cell_type": "markdown",
   "metadata": {},
   "source": [
    "### 12. Select a single cell of data\n",
    "\n",
    "`dataframe[rs, cs]`  \n",
    "\n",
    "**rs** must be integer. **cs** can be either integer or string.\n",
    "\n",
    "Returns a single column DataFrame. This is different than pandas, which just returns a scalar value."
   ]
  },
  {
   "cell_type": "code",
   "execution_count": null,
   "metadata": {},
   "outputs": [],
   "source": [
    "emps[1, 'salary']"
   ]
  },
  {
   "cell_type": "markdown",
   "metadata": {},
   "source": [
    "### 13. Simultaneously select rows and columns as booleans, lists, or slices.\n",
    "\n",
    "`dataframe[rs, cs]` \n",
    "\n",
    "**rs** can be a single-column boolean DataFrame, list of integers, or a slice.  \n",
    "**cs** can be a list of column names or integer/string slice.  "
   ]
  },
  {
   "cell_type": "code",
   "execution_count": null,
   "metadata": {},
   "outputs": [],
   "source": [
    "emps[23:45, 'race':'salary']"
   ]
  },
  {
   "cell_type": "markdown",
   "metadata": {},
   "source": [
    "### 14. Create a new column or overwrite an old one.\n",
    "\n",
    "Only one column can be set at a time.  \n",
    "\n",
    "`df[key] = value`\n",
    "\n",
    "1. **key** must be a string.\n",
    "2. **value** must be a 1D numpy array or a scalar integer, string, float, or boolean.\n",
    "3. If it is 1D numpy array, length of **value** must be same as that of DataFrame.\n",
    "4. If **value** is scalar it will be repeated for whole length of DataFrame.\n",
    "5. Unicode numpy array will be changed to numpy object type."
   ]
  },
  {
   "cell_type": "code",
   "execution_count": null,
   "metadata": {},
   "outputs": [],
   "source": [
    "emps['new_col'] = 5"
   ]
  },
  {
   "cell_type": "code",
   "execution_count": null,
   "metadata": {},
   "outputs": [],
   "source": [
    "emps.head()"
   ]
  },
  {
   "cell_type": "code",
   "execution_count": null,
   "metadata": {},
   "outputs": [],
   "source": [
    "emps = emps[['department', 'race', 'sex', 'salary']]\n",
    "emps.columns"
   ]
  },
  {
   "cell_type": "markdown",
   "metadata": {},
   "source": [
    "### 15. head(n=5) and tail(n=5) methods"
   ]
  },
  {
   "cell_type": "code",
   "execution_count": null,
   "metadata": {},
   "outputs": [],
   "source": [
    "emps.tail(3)"
   ]
  },
  {
   "cell_type": "markdown",
   "metadata": {},
   "source": [
    "### 16.  Aggregation methods\n",
    "\n",
    "11 aggregation methods have been provided. They all work columnwise. Currently row aggregation is not supported.\n",
    "Each of them returns a DataFrame with aggregation of each column.\n",
    "\n",
    "`sum`, `min`, `max`, `var`, `std`, `any`, `argmax`, `argmin`, `median`, `all`, `mean`.  \n",
    "`argmax` : returns index of max value in column.  \n",
    "`argmin` : returns index of min value in column.\n",
    "\n",
    "Some of these methods also act on string and boolean columns and may produce undesirable results such as string concatenation in case of sum. This is a bug and will be removed later."
   ]
  },
  {
   "cell_type": "code",
   "execution_count": null,
   "metadata": {},
   "outputs": [],
   "source": [
    "emps.mean()"
   ]
  },
  {
   "cell_type": "markdown",
   "metadata": {},
   "source": [
    "### 17. isna() method\n",
    "\n",
    "It returns a DataFrame the same shape as the original but with boolean values for every single value. Each value will be tested whether it is missing or not.  "
   ]
  },
  {
   "cell_type": "code",
   "execution_count": null,
   "metadata": {},
   "outputs": [],
   "source": [
    "df_pandas.isna()"
   ]
  },
  {
   "cell_type": "markdown",
   "metadata": {},
   "source": [
    "### 18. count() method\n",
    "\n",
    "Returns a single column DataFrame consisting of number of non missing values in each column."
   ]
  },
  {
   "cell_type": "code",
   "execution_count": null,
   "metadata": {},
   "outputs": [],
   "source": [
    "emps.count()"
   ]
  },
  {
   "cell_type": "code",
   "execution_count": null,
   "metadata": {},
   "outputs": [],
   "source": [
    "df.count()"
   ]
  },
  {
   "cell_type": "markdown",
   "metadata": {},
   "source": [
    "### 19. unique() method\n",
    "\n",
    "This value will return unique values for each column in the DataFrame. Specifically it will return a list of one-column DataFrames of unique values in each column."
   ]
  },
  {
   "cell_type": "code",
   "execution_count": null,
   "metadata": {},
   "outputs": [],
   "source": [
    "u = emps.unique()"
   ]
  },
  {
   "cell_type": "code",
   "execution_count": null,
   "metadata": {},
   "outputs": [],
   "source": [
    "u[1]"
   ]
  },
  {
   "cell_type": "markdown",
   "metadata": {},
   "source": [
    "### 20. nunique() method\n",
    "\n",
    "This method will return a single row DataFrame with number of unique values in each column."
   ]
  },
  {
   "cell_type": "code",
   "execution_count": null,
   "metadata": {},
   "outputs": [],
   "source": [
    "emps.nunique()"
   ]
  },
  {
   "cell_type": "markdown",
   "metadata": {},
   "source": [
    "### 21. value_counts() method\n",
    "\n",
    "Returns a list of DataFrames, unless there is just one column, then just return a single DataFrame. Each DataFrame will be two columns. The first column name will be the name of original column. The second column name will be `count`. The first column will contain the unique values in the original DataFrame column. The `count` column will hold frequency of each unique value in that column."
   ]
  },
  {
   "cell_type": "code",
   "execution_count": null,
   "metadata": {},
   "outputs": [],
   "source": [
    "counts = emps.value_counts()\n",
    "counts[0]"
   ]
  },
  {
   "cell_type": "code",
   "execution_count": null,
   "metadata": {},
   "outputs": [],
   "source": [
    "counts[1]"
   ]
  },
  {
   "cell_type": "markdown",
   "metadata": {},
   "source": [
    "### 22.  Normalize value counts\n",
    "\n",
    "`value_counts(normalize=True)` returns a list of DataFrames with relative frequencies of unique values in each column instead of absolute counts."
   ]
  },
  {
   "cell_type": "code",
   "execution_count": null,
   "metadata": {},
   "outputs": [],
   "source": [
    "dfs = emps.value_counts(normalize=True)\n",
    "dfs[0]"
   ]
  },
  {
   "cell_type": "markdown",
   "metadata": {},
   "source": [
    "### 23. rename(column_dict) method\n",
    "\n",
    "It is used to rename one or more column names. Takes a dict consisting of old column names mapped to new column names. Returns a new DataFrame."
   ]
  },
  {
   "cell_type": "code",
   "execution_count": null,
   "metadata": {},
   "outputs": [],
   "source": [
    "emps.rename({'sex':'gender'})"
   ]
  },
  {
   "cell_type": "markdown",
   "metadata": {},
   "source": [
    "### 23. drop(columns) method\n",
    "\n",
    "Accepts a single string or a list of column names as strings. Returns  DataFrame without those columns."
   ]
  },
  {
   "cell_type": "code",
   "execution_count": null,
   "metadata": {},
   "outputs": [],
   "source": [
    "emp = df['employed']\n",
    "df.drop(['employed'])"
   ]
  },
  {
   "cell_type": "code",
   "execution_count": null,
   "metadata": {},
   "outputs": [],
   "source": [
    "df['employed'] = np.array([True, False, None])"
   ]
  },
  {
   "cell_type": "code",
   "execution_count": null,
   "metadata": {},
   "outputs": [],
   "source": [
    "df"
   ]
  },
  {
   "cell_type": "markdown",
   "metadata": {},
   "source": [
    "### 24. Non-aggregation methods\n",
    "\n",
    "This include functions such as - cummin, cummax, cumsum, clip, abs, round, copy. `str` columns are returned as they are."
   ]
  },
  {
   "cell_type": "code",
   "execution_count": null,
   "metadata": {},
   "outputs": [],
   "source": [
    "emps.cummin().head()"
   ]
  },
  {
   "cell_type": "markdown",
   "metadata": {},
   "source": [
    "### 25. diff(n=1) method\n",
    "\n",
    "The `diff` method accepts a single parameter `n` and takes the difference between the current row and the `n` previous row. `n` can be either a negative or positive integer. first or last n values will be `np.nan`(missing). An integer column will be converted it to a float first as integer arrays cannot contain missing values. "
   ]
  },
  {
   "cell_type": "code",
   "execution_count": null,
   "metadata": {},
   "outputs": [],
   "source": [
    "emps.diff(n=3).head()"
   ]
  },
  {
   "cell_type": "markdown",
   "metadata": {},
   "source": [
    "### 25. pct_change(n=1) method\n",
    "\n",
    "It is identical to `diff()` except that it returns percentage change instead of raw difference."
   ]
  },
  {
   "cell_type": "code",
   "execution_count": null,
   "metadata": {},
   "outputs": [],
   "source": [
    "emps.pct_change(n=2).head()"
   ]
  },
  {
   "cell_type": "markdown",
   "metadata": {},
   "source": [
    "### 26. Arithmetic and comparison operators\n",
    "Operators provided: &nbsp;+, &nbsp;-, &nbsp;* , &nbsp;%(modulus), &nbsp;/(true division), &nbsp;//(floor division) , &nbsp;** (exponentiation), &nbsp;>, &nbsp;<, &nbsp;<=, &nbsp;>=, &nbsp;==, &nbsp;!=\n",
    "\n",
    "These don't work on string columns and they are returned as it is."
   ]
  },
  {
   "cell_type": "code",
   "execution_count": null,
   "metadata": {},
   "outputs": [],
   "source": [
    "emps + 9000"
   ]
  },
  {
   "cell_type": "markdown",
   "metadata": {},
   "source": [
    "### 27. sort_values(by, asc=True) method\n",
    "\n",
    "`by` is list of columns of type string according to which we want to sort our DataFrame. If there is only one column then `by` can be a string or a list.  "
   ]
  },
  {
   "cell_type": "code",
   "execution_count": null,
   "metadata": {},
   "outputs": [],
   "source": [
    "emps.sort_values(['salary', 'race', 'sex'], asc=False)"
   ]
  },
  {
   "cell_type": "markdown",
   "metadata": {},
   "source": [
    "### 28. sample(n=None, frac=None, replace=False, seed=none) method\n",
    "\n",
    "Returns randomly selected samples of DataFrame rows.  \n",
    "`n`: An integer value, determines how many rows to return.  \n",
    "`frac`: Fraction of rows to be returned. We can provide either `n` or `func`.  \n",
    "`replace`: Whether to select same row more than once or not.    \n",
    "`seed` : Seed value for numpy's random number generator.  "
   ]
  },
  {
   "cell_type": "code",
   "execution_count": null,
   "metadata": {},
   "outputs": [],
   "source": [
    "emps.sample(frac=0.2)"
   ]
  },
  {
   "cell_type": "markdown",
   "metadata": {},
   "source": [
    "### 30. pivot_tables( rows = None, columns = None, values = None, aggfunc = None )\n",
    "\n",
    "Returns a pivot table(also a DataFrame)\n",
    "\n",
    "`rows`: A column of DataFrame. It's unique values form a new column in pivot table.  \n",
    "`columns`: Also a column of DataFrame. It's unique values form the columns of the pivot table.  \n",
    "`rows` and `columns` are called **grouping columns**.  \n",
    "\n",
    "`values`: In addition to the grouping columns is the **aggregating column**. This is typically a numeric column that will get summarized.    \n",
    "`aggfunc`: The last component of a pivot table is the **aggregating function**. This determines how the aggregating columns get aggregated.  \n",
    "\n",
    "We can provide either `rows` or `columns` or both. `aggfunc` can only be provided if `values` is provided, otherwise we can omit both. In such a case contigency table is returned."
   ]
  },
  {
   "cell_type": "code",
   "execution_count": 26,
   "metadata": {},
   "outputs": [
    {
     "data": {
      "text/html": [
       "<table><thead><tr><th></th><th>race      </th><th>Female    </th><th>Male      </th></tr></thead><tbody><tr><td><strong>0</strong></td><td>Asian     </td><td> 58304.222</td><td> 60622.957</td></tr><tr><td><strong>1</strong></td><td>Black     </td><td> 48133.382</td><td> 51853.000</td></tr><tr><td><strong>2</strong></td><td>Hispanic  </td><td> 44216.960</td><td> 55493.064</td></tr><tr><td><strong>3</strong></td><td>Native American</td><td> 58844.333</td><td> 68850.500</td></tr><tr><td><strong>4</strong></td><td>White     </td><td> 66415.528</td><td> 63439.196</td></tr></tbody></table>"
      ],
      "text/plain": [
       "<pandas_cub.DataFrame at 0x1ed418c9eb8>"
      ]
     },
     "execution_count": 26,
     "metadata": {},
     "output_type": "execute_result"
    }
   ],
   "source": [
    "# gives mean salaries of each gender in their race\n",
    "emps.pivot_table(rows='race', columns='sex', values='salary', aggfunc='mean')"
   ]
  },
  {
   "cell_type": "markdown",
   "metadata": {},
   "source": [
    "### 31. String Methods\n",
    "\n",
    "Total of 25 methods have been provided. These can be accessed using accessor `str`. For Example to convert each value in `race` column to upper case use:  \n",
    "                \n",
    "                        emps.str.upper('race')\n",
    "                        \n",
    "These all methods have same prototype as in python. They return a single column DataFrame of transformed column.\n",
    "1. `capitalize(col)`\n",
    "2. `center(col, width, fillchar=None)`\n",
    "3. `count(col, sub, start=None, stop=None)`\n",
    "4. `endswith(col, suffix, start=None, stop=None)`\n",
    "5. `startswith(col, suffix, start=None, stop=None)`\n",
    "6. `find(col, sub, start=None, stop=None)`\n",
    "7. `len(col)`\n",
    "8. `get(col, item)`\n",
    "9. `index(col, sub, start=None, stop=None)`\n",
    "10. `isalnum(col)`\n",
    "11. `isalpha(col)`\n",
    "12. `isdecimal(col)`\n",
    "13. `islower(col)`\n",
    "14. `isnumeric(col)`\n",
    "15. `isspace(col)`\n",
    "16. `istitle(col)`\n",
    "17. `isupper(col)`\n",
    "18. `lstrip(col, chars)`\n",
    "19. `rstrip(col, chars)`\n",
    "20. `strip(col, chars)`\n",
    "21. `replace(col, old, new, count=None)`\n",
    "22. `swapcase(col)`\n",
    "23. `title(col)`\n",
    "24. `lower(col)`\n",
    "25. `upper(col)`\n",
    "26. `zfill(col, width)`\n",
    "27. `encode(col, encoding='utf-8', errors='strict')`"
   ]
  },
  {
   "cell_type": "code",
   "execution_count": 33,
   "metadata": {},
   "outputs": [
    {
     "data": {
      "text/html": [
       "<table><thead><tr><th></th><th>race      </th></tr></thead><tbody><tr><td><strong>0</strong></td><td>WHITE     </td></tr><tr><td><strong>1</strong></td><td>WHITE     </td></tr><tr><td><strong>2</strong></td><td>BLACK     </td></tr><tr><td><strong>3</strong></td><td>ASIAN     </td></tr><tr><td><strong>4</strong></td><td>WHITE     </td></tr></tbody></table>"
      ],
      "text/plain": [
       "<pandas_cub.DataFrame at 0x1ed40e047b8>"
      ]
     },
     "execution_count": 33,
     "metadata": {},
     "output_type": "execute_result"
    }
   ],
   "source": [
    "emps.str.upper('race').head()"
   ]
  },
  {
   "cell_type": "code",
   "execution_count": 37,
   "metadata": {},
   "outputs": [
    {
     "data": {
      "text/html": [
       "<table><thead><tr><th></th><th>race      </th></tr></thead><tbody><tr><td><strong>0</strong></td><td>wHITE     </td></tr><tr><td><strong>1</strong></td><td>wHITE     </td></tr><tr><td><strong>2</strong></td><td>bLACK     </td></tr><tr><td><strong>3</strong></td><td>aSIAN     </td></tr><tr><td><strong>4</strong></td><td>wHITE     </td></tr></tbody></table>"
      ],
      "text/plain": [
       "<pandas_cub.DataFrame at 0x1ed413b99e8>"
      ]
     },
     "execution_count": 37,
     "metadata": {},
     "output_type": "execute_result"
    }
   ],
   "source": [
    "emps.str.swapcase('race').head()"
   ]
  },
  {
   "cell_type": "code",
   "execution_count": 40,
   "metadata": {},
   "outputs": [
    {
     "data": {
      "text/html": [
       "<table><thead><tr><th></th><th>department</th></tr></thead><tbody><tr><td><strong>0</strong></td><td>        29</td></tr><tr><td><strong>1</strong></td><td>        29</td></tr><tr><td><strong>2</strong></td><td>        29</td></tr><tr><td><strong>3</strong></td><td>        30</td></tr><tr><td><strong>4</strong></td><td>        28</td></tr></tbody></table>"
      ],
      "text/plain": [
       "<pandas_cub.DataFrame at 0x1ed4167a128>"
      ]
     },
     "execution_count": 40,
     "metadata": {},
     "output_type": "execute_result"
    }
   ],
   "source": [
    "emps.str.len('department').head()"
   ]
  }
 ],
 "metadata": {
  "kernelspec": {
   "display_name": "Python (pandas_cub)",
   "language": "python",
   "name": "pandas_cub"
  }
 },
 "nbformat": 4,
 "nbformat_minor": 2
}
