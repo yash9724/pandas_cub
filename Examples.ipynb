{
 "cells": [
  {
   "cell_type": "markdown",
   "metadata": {},
   "source": [
    "# This notebook contains examples using pandas_cub"
   ]
  },
  {
   "cell_type": "code",
   "execution_count": 1,
   "metadata": {},
   "outputs": [
    {
     "data": {
      "text/plain": [
       "'E:\\\\Anaconda3\\\\envs\\\\pandas_cub\\\\python.exe'"
      ]
     },
     "execution_count": 1,
     "metadata": {},
     "output_type": "execute_result"
    }
   ],
   "source": [
    "import sys\n",
    "sys.executable"
   ]
  },
  {
   "cell_type": "code",
   "execution_count": 2,
   "metadata": {},
   "outputs": [],
   "source": [
    "%load_ext autoreload\n",
    "%autoreload 2"
   ]
  },
  {
   "cell_type": "code",
   "execution_count": 11,
   "metadata": {},
   "outputs": [],
   "source": [
    "import numpy as np\n",
    "import pandas as pd\n",
    "import pandas_cub as pdc"
   ]
  },
  {
   "cell_type": "markdown",
   "metadata": {},
   "source": [
    "### Creating DataFrame"
   ]
  },
  {
   "cell_type": "code",
   "execution_count": 13,
   "metadata": {},
   "outputs": [],
   "source": [
    "name = np.array(['Deepak', 'Manoj', 'Prithvi'])\n",
    "state = np.array(['Maharashtra', 'Karnatka', 'Gujarat'])\n",
    "height = np.array(['5.3', '5.6', '5.5'])\n",
    "\n",
    "df = pdc.DataFrame({'name':name, 'state':state, 'height':height})\n",
    "df_pandas = pd.DataFrame({'name':name, 'state':state, 'height':height})"
   ]
  },
  {
   "cell_type": "code",
   "execution_count": 15,
   "metadata": {},
   "outputs": [
    {
     "data": {
      "text/html": [
       "<table><thead><tr><th></th><th>name      </th><th>state     </th><th>height    </th></tr></thead><tbody><tr><td><strong>0</strong></td><td>Deepak    </td><td>Maharashtra</td><td>5.3       </td></tr><tr><td><strong>1</strong></td><td>Manoj     </td><td>Karnatka  </td><td>5.6       </td></tr><tr><td><strong>2</strong></td><td>Prithvi   </td><td>Gujarat   </td><td>5.5       </td></tr></tbody></table>"
      ],
      "text/plain": [
       "<pandas_cub.DataFrame at 0x2ad50cd98d0>"
      ]
     },
     "execution_count": 15,
     "metadata": {},
     "output_type": "execute_result"
    }
   ],
   "source": [
    "df "
   ]
  },
  {
   "cell_type": "code",
   "execution_count": 16,
   "metadata": {},
   "outputs": [
    {
     "data": {
      "text/html": [
       "<div>\n",
       "<style scoped>\n",
       "    .dataframe tbody tr th:only-of-type {\n",
       "        vertical-align: middle;\n",
       "    }\n",
       "\n",
       "    .dataframe tbody tr th {\n",
       "        vertical-align: top;\n",
       "    }\n",
       "\n",
       "    .dataframe thead th {\n",
       "        text-align: right;\n",
       "    }\n",
       "</style>\n",
       "<table border=\"1\" class=\"dataframe\">\n",
       "  <thead>\n",
       "    <tr style=\"text-align: right;\">\n",
       "      <th></th>\n",
       "      <th>name</th>\n",
       "      <th>state</th>\n",
       "      <th>height</th>\n",
       "    </tr>\n",
       "  </thead>\n",
       "  <tbody>\n",
       "    <tr>\n",
       "      <th>0</th>\n",
       "      <td>Deepak</td>\n",
       "      <td>Maharashtra</td>\n",
       "      <td>5.3</td>\n",
       "    </tr>\n",
       "    <tr>\n",
       "      <th>1</th>\n",
       "      <td>Manoj</td>\n",
       "      <td>Karnatka</td>\n",
       "      <td>5.6</td>\n",
       "    </tr>\n",
       "    <tr>\n",
       "      <th>2</th>\n",
       "      <td>Prithvi</td>\n",
       "      <td>Gujarat</td>\n",
       "      <td>5.5</td>\n",
       "    </tr>\n",
       "  </tbody>\n",
       "</table>\n",
       "</div>"
      ],
      "text/plain": [
       "      name        state height\n",
       "0   Deepak  Maharashtra    5.3\n",
       "1    Manoj     Karnatka    5.6\n",
       "2  Prithvi      Gujarat    5.5"
      ]
     },
     "execution_count": 16,
     "metadata": {},
     "output_type": "execute_result"
    }
   ],
   "source": [
    "df_pandas"
   ]
  },
  {
   "cell_type": "markdown",
   "metadata": {},
   "source": [
    "### Reading data"
   ]
  },
  {
   "cell_type": "code",
   "execution_count": 7,
   "metadata": {},
   "outputs": [],
   "source": [
    "emps = pdc.read_csv(\"data/employee.csv\")"
   ]
  },
  {
   "cell_type": "code",
   "execution_count": 9,
   "metadata": {},
   "outputs": [
    {
     "data": {
      "text/html": [
       "<table><thead><tr><th></th><th>dept      </th><th>race      </th><th>gender    </th><th>salary    </th></tr></thead><tbody><tr><td><strong>0</strong></td><td>Houston Police Department-HPD</td><td>White     </td><td>Male      </td><td>     45279</td></tr><tr><td><strong>1</strong></td><td>Houston Fire Department (HFD)</td><td>White     </td><td>Male      </td><td>     63166</td></tr><tr><td><strong>2</strong></td><td>Houston Police Department-HPD</td><td>Black     </td><td>Male      </td><td>     66614</td></tr><tr><td><strong>3</strong></td><td>Public Works & Engineering-PWE</td><td>Asian     </td><td>Male      </td><td>     71680</td></tr><tr><td><strong>4</strong></td><td>Houston Airport System (HAS)</td><td>White     </td><td>Male      </td><td>     42390</td></tr><tr><td><strong>5</strong></td><td>Public Works & Engineering-PWE</td><td>White     </td><td>Male      </td><td>    107962</td></tr><tr><td><strong>6</strong></td><td>Houston Fire Department (HFD)</td><td>Hispanic  </td><td>Male      </td><td>     52644</td></tr><tr><td><strong>7</strong></td><td>Health & Human Services</td><td>Black     </td><td>Male      </td><td>    180416</td></tr><tr><td><strong>8</strong></td><td>Public Works & Engineering-PWE</td><td>Black     </td><td>Male      </td><td>     30347</td></tr><tr><td><strong>9</strong></td><td>Health & Human Services</td><td>Black     </td><td>Male      </td><td>     55269</td></tr><tr><strong><td>...</td></strong><td>...</td><td>...</td><td>...</td><td>...</td></tr><tr><td><strong>1525</strong></td><td>Parks & Recreation</td><td>Black     </td><td>Female    </td><td>     30347</td></tr><tr><td><strong>1526</strong></td><td>Houston Police Department-HPD</td><td>Hispanic  </td><td>Female    </td><td>     44429</td></tr><tr><td><strong>1527</strong></td><td>Houston Airport System (HAS)</td><td>Hispanic  </td><td>Male      </td><td>     29286</td></tr><tr><td><strong>1528</strong></td><td>Houston Police Department-HPD</td><td>White     </td><td>Male      </td><td>     81239</td></tr><tr><td><strong>1529</strong></td><td>Houston Police Department-HPD</td><td>Black     </td><td>Male      </td><td>    104455</td></tr><tr><td><strong>1530</strong></td><td>Houston Police Department-HPD</td><td>White     </td><td>Male      </td><td>     43443</td></tr><tr><td><strong>1531</strong></td><td>Houston Fire Department (HFD)</td><td>Black     </td><td>Male      </td><td>     66523</td></tr><tr><td><strong>1532</strong></td><td>Houston Police Department-HPD</td><td>White     </td><td>Male      </td><td>     43443</td></tr><tr><td><strong>1533</strong></td><td>Houston Police Department-HPD</td><td>Asian     </td><td>Male      </td><td>     55461</td></tr><tr><td><strong>1534</strong></td><td>Houston Fire Department (HFD)</td><td>Hispanic  </td><td>Male      </td><td>     51194</td></tr></tbody></table>"
      ],
      "text/plain": [
       "<pandas_cub.DataFrame at 0x2ad50c17e80>"
      ]
     },
     "execution_count": 9,
     "metadata": {},
     "output_type": "execute_result"
    }
   ],
   "source": [
    "emps"
   ]
  },
  {
   "cell_type": "code",
   "execution_count": 10,
   "metadata": {},
   "outputs": [
    {
     "data": {
      "text/html": [
       "<table><thead><tr><th></th><th>dept      </th><th>race      </th><th>gender    </th><th>salary    </th></tr></thead><tbody><tr><td><strong>0</strong></td><td>Houston Police Department-HPD</td><td>White     </td><td>Male      </td><td>     45279</td></tr><tr><td><strong>1</strong></td><td>Houston Fire Department (HFD)</td><td>White     </td><td>Male      </td><td>     63166</td></tr><tr><td><strong>2</strong></td><td>Houston Police Department-HPD</td><td>Black     </td><td>Male      </td><td>     66614</td></tr><tr><td><strong>3</strong></td><td>Public Works & Engineering-PWE</td><td>Asian     </td><td>Male      </td><td>     71680</td></tr><tr><td><strong>4</strong></td><td>Houston Airport System (HAS)</td><td>White     </td><td>Male      </td><td>     42390</td></tr></tbody></table>"
      ],
      "text/plain": [
       "<pandas_cub.DataFrame at 0x2ad50b71208>"
      ]
     },
     "execution_count": 10,
     "metadata": {},
     "output_type": "execute_result"
    }
   ],
   "source": [
    "# only first five rows\n",
    "emps.head()"
   ]
  },
  {
   "cell_type": "code",
   "execution_count": null,
   "metadata": {},
   "outputs": [],
   "source": [
    "# column"
   ]
  }
 ],
 "metadata": {
  "kernelspec": {
   "display_name": "Python (pandas_cub)",
   "language": "python",
   "name": "pandas_cub"
  },
  "language_info": {
   "codemirror_mode": {
    "name": "ipython",
    "version": 3
   },
   "file_extension": ".py",
   "mimetype": "text/x-python",
   "name": "python",
   "nbconvert_exporter": "python",
   "pygments_lexer": "ipython3",
   "version": "3.6.8"
  }
 },
 "nbformat": 4,
 "nbformat_minor": 2
}
